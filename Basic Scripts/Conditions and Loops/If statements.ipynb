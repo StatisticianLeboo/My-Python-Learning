{
 "cells": [
  {
   "cell_type": "code",
   "execution_count": 14,
   "id": "3ef3f757",
   "metadata": {},
   "outputs": [],
   "source": [
    "def BigNum(a,b):\n",
    "    if a>b:\n",
    "        print(f\"The bigger number is; \", a)\n",
    "    else:\n",
    "        print(f\"The bigger number is; \", b)\n"
   ]
  },
  {
   "cell_type": "code",
   "execution_count": 15,
   "id": "f13206c1",
   "metadata": {
    "scrolled": false
   },
   "outputs": [
    {
     "name": "stdout",
     "output_type": "stream",
     "text": [
      "The bigger number is;  5\n"
     ]
    }
   ],
   "source": [
    "BigNum(2,5)"
   ]
  },
  {
   "cell_type": "code",
   "execution_count": 13,
   "id": "7fe70cac",
   "metadata": {},
   "outputs": [
    {
     "name": "stdout",
     "output_type": "stream",
     "text": [
      "The bigger number if;  6\n"
     ]
    }
   ],
   "source": [
    "BigNum(6,5)"
   ]
  },
  {
   "cell_type": "code",
   "execution_count": 16,
   "id": "dd11e98e",
   "metadata": {},
   "outputs": [],
   "source": [
    "# Check if Number is even or odd\n",
    "def WhatNum(n):\n",
    "    if n%2==0:\n",
    "        print(f\"The number \", n ,\"is even\")\n",
    "    else:\n",
    "        print(f\"The number \", n, \"is odd\")"
   ]
  },
  {
   "cell_type": "code",
   "execution_count": 18,
   "id": "015c9baa",
   "metadata": {},
   "outputs": [
    {
     "name": "stdout",
     "output_type": "stream",
     "text": [
      "The number  17 is odd\n",
      "The number  6 is even\n"
     ]
    }
   ],
   "source": [
    "WhatNum(17)\n",
    "WhatNum(6)"
   ]
  },
  {
   "cell_type": "code",
   "execution_count": 5,
   "id": "5fab4691",
   "metadata": {},
   "outputs": [],
   "source": [
    "# More than two conditions\n",
    "# Grades 70+ = A, 60-69 = B, 50-59 = C, 40-49 = D and below 40 = F\n",
    "def Grade(grade):\n",
    "    if grade>=70:\n",
    "        print(f\"Scored an A\")\n",
    "    elif grade>=60|grade<=69:\n",
    "              print(f\"Scored a B\")\n",
    "    elif grade>=50|grade<=59:\n",
    "              print(f\"Scored a C\")\n",
    "    elif grade>=40|grade<=49:\n",
    "              print(f\"Scored a D\")\n",
    "    else:\n",
    "              print(f\"Scored a F need to take supplementary\")"
   ]
  },
  {
   "cell_type": "code",
   "execution_count": 6,
   "id": "abafc7ea",
   "metadata": {},
   "outputs": [
    {
     "name": "stdout",
     "output_type": "stream",
     "text": [
      "Scored a F need to take supplementary\n"
     ]
    }
   ],
   "source": [
    "Grade(2)"
   ]
  },
  {
   "cell_type": "code",
   "execution_count": 7,
   "id": "7714f041",
   "metadata": {},
   "outputs": [
    {
     "name": "stdout",
     "output_type": "stream",
     "text": [
      "Scored an A\n"
     ]
    }
   ],
   "source": [
    "Grade(79)"
   ]
  },
  {
   "cell_type": "code",
   "execution_count": 8,
   "id": "7f6e4b50",
   "metadata": {},
   "outputs": [
    {
     "name": "stdout",
     "output_type": "stream",
     "text": [
      "Scored a D\n"
     ]
    }
   ],
   "source": [
    "Grade(43)"
   ]
  },
  {
   "cell_type": "code",
   "execution_count": null,
   "id": "e949047b",
   "metadata": {},
   "outputs": [],
   "source": []
  }
 ],
 "metadata": {
  "kernelspec": {
   "display_name": "Python 3 (ipykernel)",
   "language": "python",
   "name": "python3"
  },
  "language_info": {
   "codemirror_mode": {
    "name": "ipython",
    "version": 3
   },
   "file_extension": ".py",
   "mimetype": "text/x-python",
   "name": "python",
   "nbconvert_exporter": "python",
   "pygments_lexer": "ipython3",
   "version": "3.9.13"
  }
 },
 "nbformat": 4,
 "nbformat_minor": 5
}
