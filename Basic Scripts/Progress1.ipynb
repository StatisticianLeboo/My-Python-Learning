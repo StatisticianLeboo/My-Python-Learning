{
 "cells": [
  {
   "cell_type": "markdown",
   "id": "d52e5f9b",
   "metadata": {},
   "source": [
    "# My first day being serious about Python"
   ]
  },
  {
   "cell_type": "code",
   "execution_count": 2,
   "id": "625345ea",
   "metadata": {
    "scrolled": true
   },
   "outputs": [
    {
     "name": "stdout",
     "output_type": "stream",
     "text": [
      "I am starting to learn Pyhton again\n"
     ]
    }
   ],
   "source": [
    "print(\"I am starting to learn Pyhton again\")"
   ]
  },
  {
   "cell_type": "code",
   "execution_count": 3,
   "id": "d54ba31a",
   "metadata": {},
   "outputs": [],
   "source": [
    "import numpy as np"
   ]
  },
  {
   "cell_type": "code",
   "execution_count": 5,
   "id": "f3a419d8",
   "metadata": {},
   "outputs": [
    {
     "data": {
      "text/plain": [
       "{0: -0.6945981439021034,\n",
       " 1: 0.5702515478333168,\n",
       " 2: 0.470066222500413,\n",
       " 3: 1.3626554849850139,\n",
       " 4: 0.2822441907793254,\n",
       " 5: -0.31450612957708696,\n",
       " 6: 0.0723250775440553}"
      ]
     },
     "execution_count": 5,
     "metadata": {},
     "output_type": "execute_result"
    }
   ],
   "source": [
    "data = { i: np.random.randn()for i in range(7)}\n",
    "data"
   ]
  },
  {
   "cell_type": "code",
   "execution_count": 7,
   "id": "47bccafc",
   "metadata": {},
   "outputs": [],
   "source": [
    "def f (a,b):\n",
    "    return (a+b)\n",
    "a = 1\n",
    "b=1"
   ]
  },
  {
   "cell_type": "raw",
   "id": "f465bbca",
   "metadata": {},
   "source": [
    "result= f(a,b)\n",
    "print(result)"
   ]
  },
  {
   "cell_type": "code",
   "execution_count": null,
   "id": "0b873498",
   "metadata": {},
   "outputs": [],
   "source": []
  }
 ],
 "metadata": {
  "kernelspec": {
   "display_name": "Python 3 (ipykernel)",
   "language": "python",
   "name": "python3"
  },
  "language_info": {
   "codemirror_mode": {
    "name": "ipython",
    "version": 3
   },
   "file_extension": ".py",
   "mimetype": "text/x-python",
   "name": "python",
   "nbconvert_exporter": "python",
   "pygments_lexer": "ipython3",
   "version": "3.9.13"
  }
 },
 "nbformat": 4,
 "nbformat_minor": 5
}
